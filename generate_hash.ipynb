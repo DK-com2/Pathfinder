{
 "cells": [
  {
   "cell_type": "code",
   "execution_count": 4,
   "metadata": {},
   "outputs": [
    {
     "name": "stdout",
     "output_type": "stream",
     "text": [
      "ハッシュ化されたパスワード: $2b$12$imnAL.1jCuQdYS5pOD0twOU0FedrkiBgYFH8qcy/fXoohpke1bjr.\n",
      "パスワードが一致します。\n"
     ]
    }
   ],
   "source": [
    "import bcrypt\n",
    "\n",
    "# ハッシュ化するパスワードを入力\n",
    "password = \"1129\"  # ユーザーが設定したパスワード\n",
    "\n",
    "# パスワードをバイト列に変換\n",
    "password_bytes = password.encode('utf-8')\n",
    "\n",
    "# パスワードのハッシュ化\n",
    "hashed_password = bcrypt.hashpw(password_bytes, bcrypt.gensalt())\n",
    "\n",
    "\n",
    "print(\"ハッシュ化されたパスワード:\", hashed_password.decode('utf-8'))\n",
    "\n",
    "\n",
    "if bcrypt.checkpw(password_bytes, hashed_password):\n",
    "    print(\"パスワードが一致します。\")\n",
    "else:\n",
    "    print(\"パスワードが一致しません。\")\n"
   ]
  },
  {
   "cell_type": "code",
   "execution_count": null,
   "metadata": {},
   "outputs": [],
   "source": []
  }
 ],
 "metadata": {
  "kernelspec": {
   "display_name": "venv",
   "language": "python",
   "name": "python3"
  },
  "language_info": {
   "codemirror_mode": {
    "name": "ipython",
    "version": 3
   },
   "file_extension": ".py",
   "mimetype": "text/x-python",
   "name": "python",
   "nbconvert_exporter": "python",
   "pygments_lexer": "ipython3",
   "version": "3.11.0"
  }
 },
 "nbformat": 4,
 "nbformat_minor": 2
}
